{
 "cells": [
  {
   "cell_type": "code",
   "execution_count": 1,
   "metadata": {},
   "outputs": [
    {
     "data": {
      "text/plain": [
       "4"
      ]
     },
     "execution_count": 1,
     "metadata": {},
     "output_type": "execute_result"
    }
   ],
   "source": [
    "2 + 2"
   ]
  },
  {
   "cell_type": "code",
   "execution_count": 2,
   "metadata": {},
   "outputs": [],
   "source": [
    "import os\n",
    "import sys\n",
    "\n",
    "# Libraries for data processing and manipluation\n",
    "import math\n",
    "import numpy as np\n",
    "import pandas as pd\n",
    "\n",
    "# Libraries for plotting and visualization\n",
    "import matplotlib.pyplot as plt\n",
    "import seaborn as sns\n",
    "\n",
    "# Library for inference and type hinting\n",
    "from typing import Tuple, List, Union\n",
    "\n",
    "# Libraries for feature encoding\n",
    "from sklearn.compose import ColumnTransformer\n",
    "from sklearn.preprocessing import OneHotEncoder\n",
    "\n",
    "# Libraries for statistical testing\n",
    "import scipy.stats as stats\n",
    "from scipy.stats import probplot\n",
    "from scipy.stats import normaltest\n",
    "from scipy.stats import shapiro"
   ]
  },
  {
   "cell_type": "code",
   "execution_count": 3,
   "metadata": {},
   "outputs": [],
   "source": [
    "# Data cleaning methods\n",
    "\n",
    "def duplicate_remover(df:pd.DataFrame, original_df: pd.DataFrame) -> None:\n",
    "    \"\"\"Function to remove any duplicate rows (if any)\n",
    "\n",
    "    Args:\n",
    "        df (pd.DataFrame): Pandas dataframe\n",
    "        original_df (pd.DataFrame): Original pandas dataframe\n",
    "    \"\"\"\n",
    "    rs, cs = original_df.shape\n",
    "\n",
    "    df.drop_duplicates(inplace=True)\n",
    "\n",
    "    if df.shape == (rs,cs):\n",
    "        print(\"The dataset doesn't have any duplicates\")\n",
    "    else:\n",
    "        print(f\"Number of duplicates dropped/fixed ---> {rs - df.shape[0]}\")\n",
    "\n",
    "def convert_object_to_numeric(df: pd.DataFrame, column_list: List[str]) -> None:\n",
    "    \"\"\"Function to convert specified columns from object type to numeric\n",
    "\n",
    "    Args:\n",
    "        df (pd.DataFrame): Pandas dataframe\n",
    "        column_list (List[str]): _description_\n",
    "    \"\"\"\n",
    "    for column in column_list:\n",
    "        df[column] = pd.to_numeric(df[column])\n",
    "\n",
    "\n",
    "def check_empty_elements(df:pd.DataFrame) -> pd.DataFrame:\n",
    "    \"\"\"Function to check for empty elements in the dataframe\n",
    "\n",
    "    Args:\n",
    "        df (pd.DataFrame): Pandas dataframe\n",
    "\n",
    "    Returns:\n",
    "        pd.DataFrame: _description_\n",
    "    \"\"\"\n",
    "    null_value_counts = pd.DataFrame(df.isnull().sum().sort_values(), columns=['Total Null Values'])\n",
    "    null_value_counts['Percentage'] = round(null_value_counts['Total Null Values']/df.shape[0],3)*100\n",
    "    return null_value_counts\n",
    "\n",
    "def remove_outliers(df: pd.DataFrame, features: List[str], target:str) -> None:\n",
    "    \"\"\"Removal of outliers from given dataframe\n",
    "\n",
    "    Args:\n",
    "        df (pd.DataFrame): Pandas dataframe\n",
    "    \"\"\"\n",
    "    before_removal_shape = df.shape\n",
    "    numerical_features = categorical_numerical_features_split(df, features=features, target=target, single_feature='numerical')\n",
    "\n",
    "    for i in numerical_features:\n",
    "        Q1 = df[i].quantile(0.25)\n",
    "        Q3 = df[i].quantile(0.75)\n",
    "        IQR = Q3 - Q1\n",
    "        df = df[df[i] <= (Q3+(1.5*IQR))]\n",
    "        df = df[df[i] >= (Q1-(1.5*IQR))]\n",
    "        df = df.reset_index(drop=True)\n",
    "\n",
    "    after_removal_shape = df.shape\n",
    "\n",
    "    percentage_drop = (before_removal_shape[0] - after_removal_shape[0]) * 100 / before_removal_shape[0]\n",
    "\n",
    "    print('Before removal of outliers, The dataset had {} samples.'.format(before_removal_shape[0]))\n",
    "    print('After removal of outliers, The dataset now has {} samples.'.format(after_removal_shape[0]))\n",
    "    print(f\"{round(percentage_drop, 2)}% drop\")"
   ]
  },
  {
   "cell_type": "code",
   "execution_count": 4,
   "metadata": {},
   "outputs": [],
   "source": [
    "# Data preparation methods\n",
    "\n",
    "def features_target_split(df: pd.DataFrame, target: str) -> Union[Tuple[str, List[str]], None]:\n",
    "    \"\"\"Split the DataFrame into feature columns and target column.\n",
    "\n",
    "    Args:\n",
    "        df (pd.DataFrame): Pandas dataframe\n",
    "        target (str): _description_\n",
    "\n",
    "    Returns:\n",
    "        Union[Tuple[str, List[str]], None]: _description_\n",
    "    \"\"\"\n",
    "    if target in df.columns:\n",
    "        features = [i for i in df.columns if i not in [target]]\n",
    "        print('The Datset consists of {} features & {} samples.'.format(df.shape[1], df.shape[0]))\n",
    "        return features, target\n",
    "    else:\n",
    "        f\"Wrong Column name: {target}. Please select the right column from the following: {df.columns}\"\n",
    "        return None\n",
    "    \n",
    "def encode_categorical_data(df: pd.DataFrame, features: List[str], target: str) -> None:\n",
    "    \"\"\"Function to convert categorical columns to numeric columns through One-Hot or Dummy Encoding\n",
    "\n",
    "    Args:\n",
    "        df (pd.DataFrame): Pandas dataframe\n",
    "    \"\"\"\n",
    "    categorical_features = categorical_numerical_features_split(df=df, features=features, target=target, single_feature='categorical')\n",
    "    null_value_counts = check_empty_elements(df=df)\n",
    "\n",
    "    empty_column_count = null_value_counts[null_value_counts['Percentage'] != 0].index.values\n",
    "\n",
    "    filtered_categorical_columns = []\n",
    "    for i in categorical_features:\n",
    "        if i not in empty_column_count:\n",
    "            filtered_categorical_columns.append(i)\n",
    "\n",
    "    # filtered_categorical_columns = [i for i in categorical_features if i not in empty_column_count]\n",
    "\n",
    "    #One-Hot or Dummy Encoding\n",
    "    for i in filtered_categorical_columns:\n",
    "        if df[i].nunique() == 2:\n",
    "            print(f\"One-Hot Encoding on feature: {i}\")\n",
    "            df[i] = pd.get_dummies(df[i], drop_first=True, prefix=str(i))\n",
    "\n",
    "        elif (2 < df[i].nunique() < 17):\n",
    "            print(f\"Dummy Encoding on features: {i}\")\n",
    "            df = pd.concat([df.drop([i], axis = 1), pd.DataFrame(pd.get_dummies(df[i], drop_first = True, prefix = str(i)))], axis = 1)\n",
    "            \n",
    "    print(f\"df shape: {df.shape}\")\n",
    "\n",
    "\n",
    "def preprocessed_dataset(df:pd.DataFrame, original_df: pd.DataFrame) -> None:\n",
    "    \"\"\"Plot the final Dataset size after performing Preprocessing\n",
    "\n",
    "    Args:\n",
    "        df (pd.DataFrame): Pandas dataframe\n",
    "        original_df (pd.DataFrame): _description_\n",
    "    \"\"\"\n",
    "\n",
    "    df.columns = [i.replace('-','_') for i in df.columns]\n",
    "    \n",
    "    dropped_samples_num = original_df.shape[0] - df.shape[0]\n",
    "\n",
    "    plt.title('Final Dataset')\n",
    "    plt.pie([df.shape[0], dropped_samples_num], radius = 1, labels=['Retained','Dropped'], counterclock=False,\n",
    "            autopct='%1.1f%%', pctdistance=0.9, explode=[0,0], shadow=True)\n",
    "    plt.pie([df.shape[0]], labels=['100%'], labeldistance=-0, radius=0.78)\n",
    "    plt.show()\n",
    "\n",
    "    print(f'After the cleanup process, {dropped_samples_num} samples were dropped, while retaining {round((df.shape[0] * 100 / (original_df.shape[0])),2)}% of the data.')\n",
    "    \n",
    "def encode_columns(df: pd.DataFrame, target: str, ordinal_cols: List[str]=None, nominal_cols: List[str]=None) -> None:\n",
    "    \"\"\"_summary_\n",
    "\n",
    "    Args:\n",
    "        df (pd.DataFrame): Pandas dataframe\n",
    "        target (str): Target column name\n",
    "        ordinal_cols (List[str], optional): _description_. Defaults to None.\n",
    "        nominal_cols (List[str], optional): _description_. Defaults to None.\n",
    "    \"\"\"\n",
    "\n",
    "    if ordinal_cols is None:\n",
    "        ordinal_cols = []\n",
    "    if nominal_cols is None:\n",
    "        nominal_cols = []\n",
    "\n",
    "    if not ordinal_cols and not nominal_cols:\n",
    "        ordinal_cols, nominal_cols = determine_encoding(df=df)\n",
    "\n",
    "    numerical_cols = [col for col in df.columns if df[col].dtype != 'object' and col not in nominal_cols and col not in ordinal_cols]\n",
    "    transformers = [('numerical', 'passthrough', numerical_cols)]\n",
    "\n",
    "    if ordinal_cols:\n",
    "        transformers.append(('ordinal', OneHotEncoder(categories='auto'), ordinal_cols))\n",
    "\n",
    "    if nominal_cols:\n",
    "        transformers.append(('nominal', OneHotEncoder(), nominal_cols))\n",
    "\n",
    "    transformers.append(('target', 'passthrough', target))\n",
    "\n",
    "    preprocessor = ColumnTransformer(transformers=transformers, remainder='passthrough')\n",
    "\n",
    "    # Fit and transform the data\n",
    "    transformed_data = preprocessor.fit_transform(df)\n",
    "\n",
    "    # Get the column names after transformation\n",
    "    column_names = preprocessor.get_feature_names_out()\n",
    "\n",
    "    df = pd.DataFrame(transformed_data, columns=column_names)"
   ]
  },
  {
   "cell_type": "code",
   "execution_count": 5,
   "metadata": {},
   "outputs": [],
   "source": [
    "# Feature engineering methods\n",
    "\n",
    "def categorical_numerical_features_split(df: pd.DataFrame, features: List[str], target: str, single_feature: str=None) -> Union[Tuple[List[str], List[str]], None]:\n",
    "    \"\"\"Function to check the number of unique rows in each feature of the dataframe\n",
    "\n",
    "    Args:\n",
    "        df (pd.DataFrame): Pandas dataframe\n",
    "\n",
    "    Returns:\n",
    "        Union[List[str], List[str]]: _description_\n",
    "    \"\"\"\n",
    "\n",
    "    unique_values_num = df[features].nunique().sort_values()\n",
    "    numerical_features = []\n",
    "    categorial_features = []\n",
    "\n",
    "    for i in range(df[features].shape[1]):\n",
    "        if unique_values_num.values[i] <= 16:\n",
    "            categorial_features.append(unique_values_num.index[i])\n",
    "        else:\n",
    "            numerical_features.append(unique_values_num.index[i])\n",
    "\n",
    "    print(f'The Dataset has {len(numerical_features)} numerical & {len(categorial_features)} categorical features.')\n",
    "    \n",
    "\n",
    "    if single_feature is not None:\n",
    "        if single_feature == 'numerical':\n",
    "            return numerical_features\n",
    "        elif single_feature == 'categorical':\n",
    "            return categorial_features\n",
    "        else:\n",
    "            print(\"Wrong feature name selected. Please selected between 'numerical' and 'categorical\")\n",
    "            return None\n",
    "    else:\n",
    "        return numerical_features, categorial_features\n",
    "    \n",
    "def determine_encoding(df: pd.DataFrame, unique_val_threshold: int=10, return_ordinal_only=False, return_nominal_only=False) -> Union[Tuple[List[str], List[str]], List[str]]:\n",
    "    \"\"\"_summary_\n",
    "\n",
    "    Args:\n",
    "        df (pd.DataFrame): Pandas dataframe\n",
    "        unique_val_threshold (int, optional): _description_. Defaults to 10.\n",
    "        return_ordinal_only (bool, optional): _description_. Defaults to False.\n",
    "        return_nominal_only (bool, optional): _description_. Defaults to False.\n",
    "\n",
    "    Returns:\n",
    "        Union[Tuple[List[str], List[str]], List[str]]: _description_\n",
    "    \"\"\"\n",
    "    ordinal_cols = []\n",
    "    nominal_cols = []\n",
    "    \n",
    "    # Inspect each column\n",
    "    for column in df.columns:\n",
    "        # Check if the column is categorical\n",
    "        if df[column].dtype == 'object' or df[column].nunique() <= unique_val_threshold:\n",
    "            # Check if the column should be encoded using One-Hot (ordinal) encoding\n",
    "            if df[column].nunique() == 2:\n",
    "                ordinal_cols.append(column)\n",
    "            # Check if the column should be encoded using Dummy (nominal) encoding\n",
    "            elif df[column].nunique() > 2:\n",
    "                nominal_cols.append(column)\n",
    "    \n",
    "    if return_ordinal_only:\n",
    "        return ordinal_cols\n",
    "    elif return_nominal_only:\n",
    "        return nominal_cols\n",
    "    else:\n",
    "        return ordinal_cols, nominal_cols"
   ]
  },
  {
   "cell_type": "code",
   "execution_count": 6,
   "metadata": {},
   "outputs": [],
   "source": [
    "# Exploratory Data Analysis (EDA) methods\n",
    "\n",
    "def target_feature_visualizer(df: pd.DataFrame, target_column_name: str) -> None:\n",
    "    \"\"\"Function to plot the distribution of the target variable\n",
    "\n",
    "    Args:\n",
    "        df (pd.DataFrame): Pandas dataframe\n",
    "        target_column_name (str): _description_\n",
    "    \"\"\"\n",
    "\n",
    "    plt.figure(figsize=[8,4])\n",
    "    sns.distplot(df[target_column_name], color='g', hist_kws=dict(edgecolor=\"black\", linewidth=2), bins=30)\n",
    "    plt.title('Target Variable Distribution - Median Value of Homes ($1Ms)')\n",
    "    plt.grid(True)\n",
    "    plt.show()\n",
    "\n",
    "    print(\"The target variable seems to follow a normal distribution curve, averaging at around 20 units\")\n",
    "\n",
    "def categorical_features_visualizer(df: pd.DataFrame, features: List[str], target:str) -> None:\n",
    "    \"\"\"Function to visualize the categorical features of the dataframe\n",
    "\n",
    "    Args:\n",
    "        df (pd.DataFrame): Pandas dataframe\n",
    "\n",
    "    Note: Function breaks down with current dataset. Needs encoding before being executed. Error: ValueError: could not convert string to float: 'yes'\n",
    "    \"\"\"\n",
    "    print('Visualising Categorical Features:')\n",
    "    categorial_features = categorical_numerical_features_split(df=df, features=features, target=target, single_feature='numerical')\n",
    "\n",
    "    n = 3\n",
    "    plt.figure(figsize=[15, 3 * math.ceil(len(categorial_features) / n)])\n",
    "\n",
    "    for i in range(len(categorial_features)):\n",
    "        if df[categorial_features[i]].nunique() <= 8:\n",
    "            plt.subplot(math.ceil(len(categorial_features) / n), n, i + 1)\n",
    "            sns.countplot(df[categorial_features[i]])\n",
    "        else:\n",
    "            plt.subplot(3, 1, 3)\n",
    "            sns.countplot(df[categorial_features[i]])\n",
    "            \n",
    "    plt.tight_layout()\n",
    "    plt.show()\n",
    "\n",
    "def numerical_features_visualizer(df: pd.DataFrame, features: List[str], target:str, method='distribution') -> None:\n",
    "    \"\"\"Function to visualize the numeric features of the dataframe\n",
    "\n",
    "    Args:\n",
    "        df (pd.DataFrame): Pandas dataframe\n",
    "        method (str, optional): _description_. Defaults to 'distribution'.\n",
    "    \"\"\"\n",
    "\n",
    "    if method == \"distribution\":\n",
    "        print('Numerical Features Distribution')\n",
    "    elif method == \"boxplot\":\n",
    "        print('Numerical Features Boxplot')\n",
    "    else:\n",
    "        print(\"Wrong plot selected. Please selected between 'distribution' and 'boxplot\")\n",
    "        return None\n",
    "\n",
    "    n=3\n",
    "\n",
    "    numerical_features = categorical_numerical_features_split(df=df, features=features, target=target, single_feature='numerical')\n",
    "\n",
    "    plt.figure(figsize=[15,3*math.ceil(len(numerical_features)/n)])\n",
    "    for i in range(len(numerical_features)):\n",
    "        plt.subplot(math.ceil(len(numerical_features)/3),n,i+1)\n",
    "\n",
    "        if method == \"distribution\":\n",
    "            sns.distplot(df[numerical_features[i]],hist_kws=dict(edgecolor=\"black\", linewidth=2), bins=10, color=list(np.random.randint([255,255,255])/255))\n",
    "            # Displot will be deprecated soon. Switch with up-to-date function\n",
    "        else:\n",
    "            df.boxplot(numerical_features[i])\n",
    "\n",
    "    plt.tight_layout()\n",
    "    plt.show()"
   ]
  },
  {
   "cell_type": "code",
   "execution_count": 7,
   "metadata": {},
   "outputs": [],
   "source": [
    "# Data validation methods\n",
    "\n",
    "def check_encoding(df: pd.DataFrame, column: str) -> str:\n",
    "    \"\"\"\n",
    "    Check if a categorical variable has been encoded with either dummy or one-hot encoding.\n",
    "    \n",
    "    Parameters:\n",
    "    - df (pd.DataFrame): The DataFrame containing the categorical variable.\n",
    "    - column (str): The name of the categorical column to check.\n",
    "    \n",
    "    Returns:\n",
    "    - str: The type of encoding applied ('One-Hot Encoding', 'Dummy Encoding', or 'Not Encoded').\n",
    "    \"\"\"\n",
    "    if column not in df.columns:\n",
    "        return f'Column: {column} not found'\n",
    "    \n",
    "    unique_values = df[column].unique()\n",
    "    if len(unique_values) == 2 and set(unique_values) == {0, 1}:\n",
    "        return f\"Column '{column}' encoded with One-Hot Encoding\"\n",
    "    elif len(unique_values) > 2:\n",
    "        return f\"Column '{column}' encoded with Dummy Encoding\"\n",
    "    else:\n",
    "        return f\"Column '{column}' not encoded\"\n",
    "\n",
    "def get_num_unique_values(df: pd.DataFrame, column_name: str) -> int:\n",
    "    \"\"\"Function to get the number of unique values in a given column of a given dataframe\n",
    "\n",
    "    Args:\n",
    "        df (pd.DataFrame): Pandas dataframe\n",
    "        column_name (str): Name of a column, which is a part of the pandas dataframe\n",
    "\n",
    "    Returns:\n",
    "        int: Total number of unique values, as an integer\n",
    "    \"\"\"\n",
    "    return df[column_name].nunique()"
   ]
  },
  {
   "cell_type": "code",
   "execution_count": 8,
   "metadata": {},
   "outputs": [],
   "source": [
    "# Normal Distribution testing methods\n",
    "\n",
    "def shapiro_wilk_test(df: pd.DataFrame, target: str) -> None:\n",
    "    \"\"\"The Shapiro-Wilk test for normality.\n",
    "\n",
    "    Args:\n",
    "        df (pd.DataFrame): Pandas dataframe\n",
    "        target (str): Target column name\n",
    "    \"\"\"\n",
    "    stat, p = shapiro(df[target])\n",
    "    print('Shapiro-Wilk Test: Statistics=%.3f, p=%.3f' % (stat, p))\n",
    "    if p > 0.05:\n",
    "        print('Sample looks Gaussian (fail to reject H0)')\n",
    "    else:\n",
    "        print('Sample does not look Gaussian (reject H0)')\n",
    "\n",
    "def d_agostino_ktwo_test(df: pd.DataFrame, target: str) -> None:\n",
    "    \"\"\"The D'Agostino's K^2 test for normality.\n",
    "\n",
    "    Args:\n",
    "        df (pd.DataFrame): Pandas dataframe\n",
    "        target (str): Target column name\n",
    "    \"\"\"\n",
    "    stat, p = normaltest(df[target])\n",
    "    print('D\\'Agostino\\'s K^2 Test: Statistics=%.3f, p=%.3f' % (stat, p))\n",
    "    if p > 0.05:\n",
    "        print('Sample looks Gaussian (fail to reject H0)')\n",
    "    else:\n",
    "        print('Sample does not look Gaussian (reject H0)')\n",
    "\n",
    "def probability_plot(df: pd.DataFrame, target: str) -> None:\n",
    "    \"\"\"_summary_\n",
    "\n",
    "    Args:\n",
    "        df (pd.DataFrame): Pandas dataframe\n",
    "        target (str): Target column name\n",
    "    \"\"\"\n",
    "    probplot(df[target], dist=\"norm\", plot=plt)\n",
    "    plt.title('Q-Q Plot')\n",
    "    plt.grid(True)\n",
    "    plt.show()\n",
    "\n",
    "def data_skewness(df: pd.DataFrame, target: str) -> None:\n",
    "    skew_value = df[target].skew()\n",
    "    if skew_value > 1:\n",
    "        print(f\"Positively highly skewed target data (> +1): {skew_value}\")\n",
    "    else:\n",
    "        print(f\"Negatively highly skewed target data (< -1): {skew_value}\")"
   ]
  },
  {
   "cell_type": "code",
   "execution_count": 9,
   "metadata": {},
   "outputs": [],
   "source": [
    "TARGET_COLUMN_NAME = 'price'\n",
    "\n",
    "dataset_dir = os.path.join(os.getcwd(), 'housing-prices-dataset')\n",
    "housing_csv_file = os.path.join(dataset_dir, 'housing.csv')\n",
    "df = pd.read_csv(housing_csv_file)\n",
    "original_df = df.copy(deep=True)\n",
    "\n",
    "df.head()\n",
    "df.describe()\n",
    "\n",
    "target = 'price'\n",
    "features = [i for i in df.columns if i not in [target]]"
   ]
  },
  {
   "cell_type": "code",
   "execution_count": 11,
   "metadata": {},
   "outputs": [
    {
     "data": {
      "text/html": [
       "<div>\n",
       "<style scoped>\n",
       "    .dataframe tbody tr th:only-of-type {\n",
       "        vertical-align: middle;\n",
       "    }\n",
       "\n",
       "    .dataframe tbody tr th {\n",
       "        vertical-align: top;\n",
       "    }\n",
       "\n",
       "    .dataframe thead th {\n",
       "        text-align: right;\n",
       "    }\n",
       "</style>\n",
       "<table border=\"1\" class=\"dataframe\">\n",
       "  <thead>\n",
       "    <tr style=\"text-align: right;\">\n",
       "      <th></th>\n",
       "      <th>price</th>\n",
       "      <th>area</th>\n",
       "      <th>bedrooms</th>\n",
       "      <th>bathrooms</th>\n",
       "      <th>stories</th>\n",
       "      <th>mainroad</th>\n",
       "      <th>guestroom</th>\n",
       "      <th>basement</th>\n",
       "      <th>hotwaterheating</th>\n",
       "      <th>airconditioning</th>\n",
       "      <th>parking</th>\n",
       "      <th>prefarea</th>\n",
       "      <th>furnishingstatus</th>\n",
       "    </tr>\n",
       "  </thead>\n",
       "  <tbody>\n",
       "    <tr>\n",
       "      <th>0</th>\n",
       "      <td>13300000</td>\n",
       "      <td>7420</td>\n",
       "      <td>4</td>\n",
       "      <td>2</td>\n",
       "      <td>3</td>\n",
       "      <td>yes</td>\n",
       "      <td>no</td>\n",
       "      <td>no</td>\n",
       "      <td>no</td>\n",
       "      <td>yes</td>\n",
       "      <td>2</td>\n",
       "      <td>yes</td>\n",
       "      <td>furnished</td>\n",
       "    </tr>\n",
       "    <tr>\n",
       "      <th>1</th>\n",
       "      <td>12250000</td>\n",
       "      <td>8960</td>\n",
       "      <td>4</td>\n",
       "      <td>4</td>\n",
       "      <td>4</td>\n",
       "      <td>yes</td>\n",
       "      <td>no</td>\n",
       "      <td>no</td>\n",
       "      <td>no</td>\n",
       "      <td>yes</td>\n",
       "      <td>3</td>\n",
       "      <td>no</td>\n",
       "      <td>furnished</td>\n",
       "    </tr>\n",
       "    <tr>\n",
       "      <th>2</th>\n",
       "      <td>12250000</td>\n",
       "      <td>9960</td>\n",
       "      <td>3</td>\n",
       "      <td>2</td>\n",
       "      <td>2</td>\n",
       "      <td>yes</td>\n",
       "      <td>no</td>\n",
       "      <td>yes</td>\n",
       "      <td>no</td>\n",
       "      <td>no</td>\n",
       "      <td>2</td>\n",
       "      <td>yes</td>\n",
       "      <td>semi-furnished</td>\n",
       "    </tr>\n",
       "    <tr>\n",
       "      <th>3</th>\n",
       "      <td>12215000</td>\n",
       "      <td>7500</td>\n",
       "      <td>4</td>\n",
       "      <td>2</td>\n",
       "      <td>2</td>\n",
       "      <td>yes</td>\n",
       "      <td>no</td>\n",
       "      <td>yes</td>\n",
       "      <td>no</td>\n",
       "      <td>yes</td>\n",
       "      <td>3</td>\n",
       "      <td>yes</td>\n",
       "      <td>furnished</td>\n",
       "    </tr>\n",
       "    <tr>\n",
       "      <th>4</th>\n",
       "      <td>11410000</td>\n",
       "      <td>7420</td>\n",
       "      <td>4</td>\n",
       "      <td>1</td>\n",
       "      <td>2</td>\n",
       "      <td>yes</td>\n",
       "      <td>yes</td>\n",
       "      <td>yes</td>\n",
       "      <td>no</td>\n",
       "      <td>yes</td>\n",
       "      <td>2</td>\n",
       "      <td>no</td>\n",
       "      <td>furnished</td>\n",
       "    </tr>\n",
       "    <tr>\n",
       "      <th>5</th>\n",
       "      <td>10850000</td>\n",
       "      <td>7500</td>\n",
       "      <td>3</td>\n",
       "      <td>3</td>\n",
       "      <td>1</td>\n",
       "      <td>yes</td>\n",
       "      <td>no</td>\n",
       "      <td>yes</td>\n",
       "      <td>no</td>\n",
       "      <td>yes</td>\n",
       "      <td>2</td>\n",
       "      <td>yes</td>\n",
       "      <td>semi-furnished</td>\n",
       "    </tr>\n",
       "    <tr>\n",
       "      <th>6</th>\n",
       "      <td>10150000</td>\n",
       "      <td>8580</td>\n",
       "      <td>4</td>\n",
       "      <td>3</td>\n",
       "      <td>4</td>\n",
       "      <td>yes</td>\n",
       "      <td>no</td>\n",
       "      <td>no</td>\n",
       "      <td>no</td>\n",
       "      <td>yes</td>\n",
       "      <td>2</td>\n",
       "      <td>yes</td>\n",
       "      <td>semi-furnished</td>\n",
       "    </tr>\n",
       "    <tr>\n",
       "      <th>7</th>\n",
       "      <td>10150000</td>\n",
       "      <td>16200</td>\n",
       "      <td>5</td>\n",
       "      <td>3</td>\n",
       "      <td>2</td>\n",
       "      <td>yes</td>\n",
       "      <td>no</td>\n",
       "      <td>no</td>\n",
       "      <td>no</td>\n",
       "      <td>no</td>\n",
       "      <td>0</td>\n",
       "      <td>no</td>\n",
       "      <td>unfurnished</td>\n",
       "    </tr>\n",
       "    <tr>\n",
       "      <th>8</th>\n",
       "      <td>9870000</td>\n",
       "      <td>8100</td>\n",
       "      <td>4</td>\n",
       "      <td>1</td>\n",
       "      <td>2</td>\n",
       "      <td>yes</td>\n",
       "      <td>yes</td>\n",
       "      <td>yes</td>\n",
       "      <td>no</td>\n",
       "      <td>yes</td>\n",
       "      <td>2</td>\n",
       "      <td>yes</td>\n",
       "      <td>furnished</td>\n",
       "    </tr>\n",
       "    <tr>\n",
       "      <th>9</th>\n",
       "      <td>9800000</td>\n",
       "      <td>5750</td>\n",
       "      <td>3</td>\n",
       "      <td>2</td>\n",
       "      <td>4</td>\n",
       "      <td>yes</td>\n",
       "      <td>yes</td>\n",
       "      <td>no</td>\n",
       "      <td>no</td>\n",
       "      <td>yes</td>\n",
       "      <td>1</td>\n",
       "      <td>yes</td>\n",
       "      <td>unfurnished</td>\n",
       "    </tr>\n",
       "  </tbody>\n",
       "</table>\n",
       "</div>"
      ],
      "text/plain": [
       "      price   area  bedrooms  bathrooms  stories mainroad guestroom basement  \\\n",
       "0  13300000   7420         4          2        3      yes        no       no   \n",
       "1  12250000   8960         4          4        4      yes        no       no   \n",
       "2  12250000   9960         3          2        2      yes        no      yes   \n",
       "3  12215000   7500         4          2        2      yes        no      yes   \n",
       "4  11410000   7420         4          1        2      yes       yes      yes   \n",
       "5  10850000   7500         3          3        1      yes        no      yes   \n",
       "6  10150000   8580         4          3        4      yes        no       no   \n",
       "7  10150000  16200         5          3        2      yes        no       no   \n",
       "8   9870000   8100         4          1        2      yes       yes      yes   \n",
       "9   9800000   5750         3          2        4      yes       yes       no   \n",
       "\n",
       "  hotwaterheating airconditioning  parking prefarea furnishingstatus  \n",
       "0              no             yes        2      yes        furnished  \n",
       "1              no             yes        3       no        furnished  \n",
       "2              no              no        2      yes   semi-furnished  \n",
       "3              no             yes        3      yes        furnished  \n",
       "4              no             yes        2       no        furnished  \n",
       "5              no             yes        2      yes   semi-furnished  \n",
       "6              no             yes        2      yes   semi-furnished  \n",
       "7              no              no        0       no      unfurnished  \n",
       "8              no             yes        2      yes        furnished  \n",
       "9              no             yes        1      yes      unfurnished  "
      ]
     },
     "execution_count": 11,
     "metadata": {},
     "output_type": "execute_result"
    }
   ],
   "source": [
    "df.head(10)"
   ]
  },
  {
   "cell_type": "code",
   "execution_count": 13,
   "metadata": {},
   "outputs": [
    {
     "name": "stdout",
     "output_type": "stream",
     "text": [
      "The Datset consists of 13 features & 545 samples.\n"
     ]
    }
   ],
   "source": [
    "features, target = features_target_split(df=df, target=TARGET_COLUMN_NAME)"
   ]
  },
  {
   "cell_type": "code",
   "execution_count": 14,
   "metadata": {},
   "outputs": [
    {
     "name": "stdout",
     "output_type": "stream",
     "text": [
      "The Dataset has 1 numerical & 11 categorical features.\n"
     ]
    }
   ],
   "source": [
    "numerical_features, categorial_features = categorical_numerical_features_split(df=df, features=features, target=target)"
   ]
  },
  {
   "cell_type": "code",
   "execution_count": null,
   "metadata": {},
   "outputs": [],
   "source": [
    "shapiro_wilk_test(df=df, target=TARGET_COLUMN_NAME)"
   ]
  },
  {
   "cell_type": "code",
   "execution_count": null,
   "metadata": {},
   "outputs": [],
   "source": [
    "d_agostino_ktwo_test(df=df, target=TARGET_COLUMN_NAME)"
   ]
  },
  {
   "cell_type": "code",
   "execution_count": null,
   "metadata": {},
   "outputs": [],
   "source": [
    "data_skewness(df=df, target=TARGET_COLUMN_NAME)"
   ]
  },
  {
   "cell_type": "code",
   "execution_count": null,
   "metadata": {},
   "outputs": [],
   "source": [
    "probability_plot(df=df, target=TARGET_COLUMN_NAME)"
   ]
  },
  {
   "cell_type": "code",
   "execution_count": 15,
   "metadata": {},
   "outputs": [
    {
     "name": "stderr",
     "output_type": "stream",
     "text": [
      "c:\\Users\\User\\miniconda3\\envs\\programming\\lib\\site-packages\\ipykernel_launcher.py:12: UserWarning: \n",
      "\n",
      "`distplot` is a deprecated function and will be removed in seaborn v0.14.0.\n",
      "\n",
      "Please adapt your code to use either `displot` (a figure-level function with\n",
      "similar flexibility) or `histplot` (an axes-level function for histograms).\n",
      "\n",
      "For a guide to updating your code to use the new functions, please see\n",
      "https://gist.github.com/mwaskom/de44147ed2974457ad6372750bbe5751\n",
      "\n",
      "  if sys.path[0] == \"\":\n"
     ]
    },
    {
     "data": {
      "image/png": "[encoded data removed]",
      "text/plain": [
       "<Figure size 800x400 with 1 Axes>"
      ]
     },
     "metadata": {},
     "output_type": "display_data"
    },
    {
     "name": "stdout",
     "output_type": "stream",
     "text": [
      "The target variable seems to follow a normal distribution curve, averaging at around 20 units\n"
     ]
    }
   ],
   "source": [
    "target_feature_visualizer(df=df, target_column_name=TARGET_COLUMN_NAME)"
   ]
  },
  {
   "cell_type": "code",
   "execution_count": 16,
   "metadata": {},
   "outputs": [
    {
     "name": "stdout",
     "output_type": "stream",
     "text": [
      "Visualising Categorical Features:\n",
      "The Dataset has 1 numerical & 11 categorical features.\n"
     ]
    },
    {
     "data": {
      "image/png": "[encoded data removed]",
      "text/plain": [
       "<Figure size 1500x300 with 1 Axes>"
      ]
     },
     "metadata": {},
     "output_type": "display_data"
    }
   ],
   "source": [
    "categorical_features_visualizer(df=df, features=features, target=target)"
   ]
  },
  {
   "cell_type": "code",
   "execution_count": 17,
   "metadata": {},
   "outputs": [
    {
     "name": "stdout",
     "output_type": "stream",
     "text": [
      "Numerical Features Distribution\n",
      "The Dataset has 1 numerical & 11 categorical features.\n"
     ]
    },
    {
     "name": "stderr",
     "output_type": "stream",
     "text": [
      "c:\\Users\\User\\miniconda3\\envs\\programming\\lib\\site-packages\\ipykernel_launcher.py:69: UserWarning: \n",
      "\n",
      "`distplot` is a deprecated function and will be removed in seaborn v0.14.0.\n",
      "\n",
      "Please adapt your code to use either `displot` (a figure-level function with\n",
      "similar flexibility) or `histplot` (an axes-level function for histograms).\n",
      "\n",
      "For a guide to updating your code to use the new functions, please see\n",
      "https://gist.github.com/mwaskom/de44147ed2974457ad6372750bbe5751\n",
      "\n"
     ]
    },
    {
     "data": {
      "image/png": "[encoded data removed]",
      "text/plain": [
       "<Figure size 1500x300 with 1 Axes>"
      ]
     },
     "metadata": {},
     "output_type": "display_data"
    }
   ],
   "source": [
    "numerical_features_visualizer(df=df, features=features, target=target, method='distribution')"
   ]
  },
  {
   "cell_type": "code",
   "execution_count": 18,
   "metadata": {},
   "outputs": [
    {
     "name": "stdout",
     "output_type": "stream",
     "text": [
      "The dataset doesn't have any duplicates\n"
     ]
    }
   ],
   "source": [
    "duplicate_remover(df=df, original_df=original_df)"
   ]
  },
  {
   "cell_type": "code",
   "execution_count": 19,
   "metadata": {},
   "outputs": [],
   "source": [
    "null_value_counts = check_empty_elements(df=df)"
   ]
  },
  {
   "cell_type": "code",
   "execution_count": 20,
   "metadata": {},
   "outputs": [
    {
     "name": "stdout",
     "output_type": "stream",
     "text": [
      "The Dataset has 1 numerical & 11 categorical features.\n",
      "One-Hot Encoding on feature: mainroad\n",
      "One-Hot Encoding on feature: guestroom\n",
      "One-Hot Encoding on feature: basement\n",
      "One-Hot Encoding on feature: hotwaterheating\n",
      "One-Hot Encoding on feature: airconditioning\n",
      "One-Hot Encoding on feature: prefarea\n",
      "Dummy Encoding on features: furnishingstatus\n",
      "Dummy Encoding on features: bathrooms\n",
      "Dummy Encoding on features: stories\n",
      "Dummy Encoding on features: parking\n",
      "Dummy Encoding on features: bedrooms\n",
      "df shape: (545, 24)\n"
     ]
    }
   ],
   "source": [
    "encode_categorical_data(df=df, features=features, target=target)"
   ]
  },
  {
   "cell_type": "code",
   "execution_count": 21,
   "metadata": {},
   "outputs": [
    {
     "name": "stdout",
     "output_type": "stream",
     "text": [
      "Column 'price' encoded with Dummy Encoding\n",
      "Column 'area' encoded with Dummy Encoding\n",
      "Column 'bedrooms' encoded with Dummy Encoding\n",
      "Column 'bathrooms' encoded with Dummy Encoding\n",
      "Column 'stories' encoded with Dummy Encoding\n",
      "Column 'mainroad' encoded with One-Hot Encoding\n",
      "Column 'guestroom' encoded with One-Hot Encoding\n",
      "Column 'basement' encoded with One-Hot Encoding\n",
      "Column 'hotwaterheating' encoded with One-Hot Encoding\n",
      "Column 'airconditioning' encoded with One-Hot Encoding\n",
      "Column 'parking' encoded with Dummy Encoding\n",
      "Column 'prefarea' encoded with One-Hot Encoding\n",
      "Column 'furnishingstatus' encoded with Dummy Encoding\n"
     ]
    }
   ],
   "source": [
    "for column in df.columns:\n",
    "    print(check_encoding(df=df, column=column))"
   ]
  },
  {
   "cell_type": "code",
   "execution_count": 22,
   "metadata": {},
   "outputs": [
    {
     "name": "stdout",
     "output_type": "stream",
     "text": [
      "The Dataset has 1 numerical & 11 categorical features.\n",
      "Before removal of outliers, The dataset had 545 samples.\n",
      "After removal of outliers, The dataset now has 533 samples.\n",
      "2.2% drop\n"
     ]
    }
   ],
   "source": [
    "remove_outliers(df=df, features=features, target=target)"
   ]
  },
  {
   "cell_type": "code",
   "execution_count": null,
   "metadata": {},
   "outputs": [],
   "source": []
  },
  {
   "cell_type": "code",
   "execution_count": 23,
   "metadata": {},
   "outputs": [
    {
     "data": {
      "image/png": "[encoded data removed]",
      "text/plain": [
       "<Figure size 640x480 with 1 Axes>"
      ]
     },
     "metadata": {},
     "output_type": "display_data"
    },
    {
     "name": "stdout",
     "output_type": "stream",
     "text": [
      "After the cleanup process, 0 samples were dropped, while retaining 100.0% of the data.\n"
     ]
    }
   ],
   "source": [
    "preprocessed_dataset(df=df, original_df=original_df)"
   ]
  }
 ],
 "metadata": {
  "kernelspec": {
   "display_name": "programming",
   "language": "python",
   "name": "python3"
  },
  "language_info": {
   "codemirror_mode": {
    "name": "ipython",
    "version": 3
   },
   "file_extension": ".py",
   "mimetype": "text/x-python",
   "name": "python",
   "nbconvert_exporter": "python",
   "pygments_lexer": "ipython3",
   "version": "3.7.13"
  }
 },
 "nbformat": 4,
 "nbformat_minor": 2
}
